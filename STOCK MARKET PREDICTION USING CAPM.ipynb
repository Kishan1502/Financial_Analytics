{
 "cells": [
  {
   "cell_type": "code",
   "execution_count": 3,
   "metadata": {},
   "outputs": [],
   "source": [
    "import tkinter as tk\n",
    "from tkinter import messagebox\n",
    "from tkinter import simpledialog\n",
    "\n",
    "def capm_prediction(rf_rate, beta, market_return):\n",
    "    # Calculate predicted return using CAPM formula\n",
    "    predicted_return = rf_rate + beta * (market_return - rf_rate)\n",
    "    return predicted_return\n",
    "\n",
    "def predict_stock_price():\n",
    "    try:\n",
    "        rf_rate = float(simpledialog.askstring(\"Risk-Free Rate\", \"Enter the risk-free rate (%): \")) / 100\n",
    "        beta = float(simpledialog.askstring(\"Beta\", \"Enter the stock beta: \"))\n",
    "        market_return = float(simpledialog.askstring(\"Market Return\", \"Enter the expected market return (%): \")) / 100\n",
    "\n",
    "        predicted_return = capm_prediction(rf_rate, beta, market_return)\n",
    "\n",
    "        current_stock_price = float(simpledialog.askstring(\"Current Stock Price\", \"Enter the current stock price: \"))\n",
    "        \n",
    "        # Calculate predicted stock price\n",
    "        predicted_stock_price = current_stock_price * (1 + predicted_return)\n",
    "\n",
    "        messagebox.showinfo(\"Prediction Result\", f\"The predicted stock price is: {predicted_stock_price:.2f}\")\n",
    "    except ValueError:\n",
    "        messagebox.showerror(\"Error\", \"Invalid input. Please enter valid numerical values.\")\n",
    "\n",
    "# Create main window\n",
    "window = tk.Tk()\n",
    "window.title(\"Stock Price Prediction using CAPM\")\n",
    "\n",
    "# Create and pack widgets\n",
    "label = tk.Label(window, text=\"CAPM Stock Price Prediction\")\n",
    "label.pack()\n",
    "\n",
    "button = tk.Button(window, text=\"Predict Stock Price\", command=predict_stock_price)\n",
    "button.pack()\n",
    "\n",
    "# Start the main event loop\n",
    "window.mainloop()\n"
   ]
  }
 ],
 "metadata": {
  "kernelspec": {
   "display_name": "Python 3",
   "language": "python",
   "name": "python3"
  },
  "language_info": {
   "codemirror_mode": {
    "name": "ipython",
    "version": 3
   },
   "file_extension": ".py",
   "mimetype": "text/x-python",
   "name": "python",
   "nbconvert_exporter": "python",
   "pygments_lexer": "ipython3",
   "version": "3.11.8"
  }
 },
 "nbformat": 4,
 "nbformat_minor": 2
}
