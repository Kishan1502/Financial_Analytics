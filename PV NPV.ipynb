{
 "cells": [
  {
   "cell_type": "code",
   "execution_count": 8,
   "metadata": {},
   "outputs": [
    {
     "name": "stdout",
     "output_type": "stream",
     "text": [
      "Net Present Value Option B (Government Scheme): Rs. 327936.86\n"
     ]
    }
   ],
   "source": [
    "def present_value(future_value, discount_rate, periods):\n",
    "    return future_value / (1 + discount_rate) ** periods\n",
    "\n",
    "# Option B - Government Scheme\n",
    "initial_investment_b = 800000  # Initial investment in the government scheme\n",
    "years_b = 6\n",
    "\n",
    "discount_rate = 0.06  # Risk-free interest rate\n",
    "\n",
    "# Calculate present value for the government scheme\n",
    "pv_b = present_value(initial_investment_b * 2, discount_rate, years_b)\n",
    "\n",
    "# Calculate Net Present Value for Option B\n",
    "npv_b = pv_b - initial_investment_b\n",
    "\n",
    "print(\"Net Present Value Option B (Government Scheme): Rs.\", round(npv_b, 2))\n"
   ]
  },
  {
   "cell_type": "code",
   "execution_count": 1,
   "metadata": {},
   "outputs": [
    {
     "name": "stdout",
     "output_type": "stream",
     "text": [
      "Present Value Option A (Taxi): Rs. 254054.71\n"
     ]
    }
   ],
   "source": [
    "def present_value(future_value, discount_rate, periods):\n",
    "    return future_value / (1 + discount_rate) ** periods\n",
    "\n",
    "# Option A - Taxi\n",
    "initial_investment_a = 1000  # Initial investment in the taxi\n",
    "annual_cash_flow = 1500  # Annual cash flow for 5 years\n",
    "selling_price = 400000  # Selling price at the end of 5th year\n",
    "\n",
    "discount_rate = 0.1 # Risk-free interest rate\n",
    "\n",
    "# Calculate present value for each year's cash flow\n",
    "pv_cash_flows_a = sum(present_value(annual_cash_flow, discount_rate, i) for i in range(1, 6))\n",
    "# Add present value of selling price at the end of 5th year\n",
    "pv_a = pv_cash_flows_a + present_value(selling_price, discount_rate, 5)\n",
    "\n",
    "print(\"Present Value Option A (Taxi): Rs.\", round(pv_a, 2))\n"
   ]
  }
 ],
 "metadata": {
  "kernelspec": {
   "display_name": "Python 3",
   "language": "python",
   "name": "python3"
  },
  "language_info": {
   "codemirror_mode": {
    "name": "ipython",
    "version": 3
   },
   "file_extension": ".py",
   "mimetype": "text/x-python",
   "name": "python",
   "nbconvert_exporter": "python",
   "pygments_lexer": "ipython3",
   "version": "3.11.7"
  }
 },
 "nbformat": 4,
 "nbformat_minor": 2
}
