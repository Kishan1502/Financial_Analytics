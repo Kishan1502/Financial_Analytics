{
 "cells": [
  {
   "cell_type": "code",
   "execution_count": 3,
   "metadata": {},
   "outputs": [
    {
     "name": "stdout",
     "output_type": "stream",
     "text": [
      "Option A:\n",
      "IRR: 50.00%\n",
      "PV: Rs. 363.64\n",
      "\n",
      "Option B:\n",
      "IRR: 37.50%\n",
      "PV: Rs. 500.00\n",
      "\n",
      "The better option is: Option B\n"
     ]
    }
   ],
   "source": [
    "import numpy_financial as npf\n",
    "\n",
    "# Define the cash flows for Option A and Option B\n",
    "cash_flows_option_a = [-1000, 1500]\n",
    "cash_flows_option_b = [-2000, 2750]\n",
    "\n",
    "# Define the discount rate\n",
    "discount_rate = 0.10  # 10%\n",
    "\n",
    "# Calculate IRR\n",
    "irr_option_a = npf.irr(cash_flows_option_a)\n",
    "irr_option_b = npf.irr(cash_flows_option_b)\n",
    "\n",
    "# Calculate Present Value (PV)\n",
    "pv_option_a = npf.npv(discount_rate, cash_flows_option_a)\n",
    "pv_option_b = npf.npv(discount_rate, cash_flows_option_b)\n",
    "\n",
    "# Print the results\n",
    "print(\"Option A:\")\n",
    "print(\"IRR: {:.2%}\".format(irr_option_a))\n",
    "print(\"PV: Rs. {:.2f}\".format(pv_option_a))\n",
    "print(\"\\nOption B:\")\n",
    "print(\"IRR: {:.2%}\".format(irr_option_b))\n",
    "print(\"PV: Rs. {:.2f}\".format(pv_option_b))\n",
    "\n",
    "# Determine which option is better based on PV\n",
    "better_option = \"Option A\" if pv_option_a > pv_option_b else \"Option B\"\n",
    "print(\"\\nThe better option is:\", better_option)\n"
   ]
  },
  {
   "cell_type": "code",
   "execution_count": 4,
   "metadata": {},
   "outputs": [
    {
     "name": "stdout",
     "output_type": "stream",
     "text": [
      "Internal Rate of Return (IRR): 13.07%\n"
     ]
    }
   ],
   "source": [
    "import numpy_financial as npf\n",
    "\n",
    "# Define the cash flows\n",
    "investment = -1000000  # Negative sign for the initial investment\n",
    "returns = [600000, 600000]  # Returns for the next 2 years\n",
    "\n",
    "# Combine the cash flows\n",
    "cash_flows = [investment] + returns\n",
    "\n",
    "# Calculate IRR\n",
    "irr = npf.irr(cash_flows)\n",
    "\n",
    "# Print the result\n",
    "print(\"Internal Rate of Return (IRR): {:.2%}\".format(irr))\n"
   ]
  }
 ],
 "metadata": {
  "kernelspec": {
   "display_name": "Python 3",
   "language": "python",
   "name": "python3"
  },
  "language_info": {
   "codemirror_mode": {
    "name": "ipython",
    "version": 3
   },
   "file_extension": ".py",
   "mimetype": "text/x-python",
   "name": "python",
   "nbconvert_exporter": "python",
   "pygments_lexer": "ipython3",
   "version": "3.11.7"
  }
 },
 "nbformat": 4,
 "nbformat_minor": 2
}
